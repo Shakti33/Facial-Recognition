{
 "cells": [
  {
   "cell_type": "markdown",
   "id": "8798c520",
   "metadata": {},
   "source": [
    "# Project: Facial Recognition with Deep Learning in Keras Using CNN"
   ]
  },
  {
   "cell_type": "markdown",
   "id": "0ad35d9d",
   "metadata": {},
   "source": [
    "### by SHAKTI NATH SAINI"
   ]
  },
  {
   "cell_type": "markdown",
   "id": "bfb7f9d4",
   "metadata": {
    "id": "bfb7f9d4"
   },
   "source": [
    "## Step 1"
   ]
  },
  {
   "cell_type": "code",
   "execution_count": 22,
   "id": "122dc136",
   "metadata": {
    "id": "122dc136"
   },
   "outputs": [],
   "source": [
    "import keras\n",
    "import tensorflow as tf\n",
    "from keras.models import Sequential\n",
    "from keras.layers import Conv2D, MaxPooling2D, Dense, Flatten, Dropout\n",
    "from keras.optimizers import adam_v2\n",
    "from keras.callbacks import TensorBoard\n",
    "from PIL import Image\n",
    "\n",
    "import numpy as np  \n",
    "import pandas as pd\n",
    "import matplotlib.pyplot as plt\n",
    "from sklearn.model_selection import train_test_split\n",
    "\n",
    "from sklearn.metrics import confusion_matrix\n",
    "from sklearn.metrics import classification_report\n",
    "from sklearn.metrics import roc_curve, auc\n",
    "from sklearn.metrics import accuracy_score\n",
    "from keras.utils import np_utils\n",
    "import itertools"
   ]
  },
  {
   "cell_type": "markdown",
   "id": "ae441fc0",
   "metadata": {
    "id": "ae441fc0"
   },
   "source": [
    "## Step 2"
   ]
  },
  {
   "cell_type": "code",
   "execution_count": 23,
   "id": "c878ad14",
   "metadata": {
    "id": "c878ad14"
   },
   "outputs": [],
   "source": [
    "#load dataset\n",
    "data= np.load(r'C:\\Users\\Shakti\\Documents\\Python Scripts\\Projects\\Facial Recognition\\ORL_faces.npz')"
   ]
  },
  {
   "cell_type": "code",
   "execution_count": 24,
   "id": "50c3cc94",
   "metadata": {
    "colab": {
     "base_uri": "https://localhost:8080/"
    },
    "id": "50c3cc94",
    "outputId": "f9e21934-d6f1-479b-99ec-8698e8e15b73"
   },
   "outputs": [
    {
     "name": "stdout",
     "output_type": "stream",
     "text": [
      "x_train : [[0.1882353  0.19215687 0.1764706  ... 0.18431373 0.18039216 0.18039216]\n",
      " [0.23529412 0.23529412 0.24313726 ... 0.1254902  0.13333334 0.13333334]\n",
      " [0.15294118 0.17254902 0.20784314 ... 0.11372549 0.10196079 0.11372549]\n",
      " ...\n",
      " [0.44705883 0.45882353 0.44705883 ... 0.38431373 0.3764706  0.38431373]\n",
      " [0.4117647  0.4117647  0.41960785 ... 0.21176471 0.18431373 0.16078432]\n",
      " [0.45490196 0.44705883 0.45882353 ... 0.37254903 0.39215687 0.39607844]]\n",
      "Y-train shape: [ 0  0  0  0  0  0  0  0  0  0  0  0  1  1  1  1  1  1  1  1  1  1  1  1\n",
      "  2  2  2  2  2  2  2  2  2  2  2  2  3  3  3  3  3  3  3  3  3  3  3  3\n",
      "  4  4  4  4  4  4  4  4  4  4  4  4  5  5  5  5  5  5  5  5  5  5  5  5\n",
      "  6  6  6  6  6  6  6  6  6  6  6  6  7  7  7  7  7  7  7  7  7  7  7  7\n",
      "  8  8  8  8  8  8  8  8  8  8  8  8  9  9  9  9  9  9  9  9  9  9  9  9\n",
      " 10 10 10 10 10 10 10 10 10 10 10 10 11 11 11 11 11 11 11 11 11 11 11 11\n",
      " 12 12 12 12 12 12 12 12 12 12 12 12 13 13 13 13 13 13 13 13 13 13 13 13\n",
      " 14 14 14 14 14 14 14 14 14 14 14 14 15 15 15 15 15 15 15 15 15 15 15 15\n",
      " 16 16 16 16 16 16 16 16 16 16 16 16 17 17 17 17 17 17 17 17 17 17 17 17\n",
      " 18 18 18 18 18 18 18 18 18 18 18 18 19 19 19 19 19 19 19 19 19 19 19 19]\n",
      "x_test shape: (160, 10304)\n"
     ]
    }
   ],
   "source": [
    "# load the \"Train Images\"\n",
    "x_train = data['trainX']\n",
    "#normalize every image\n",
    "x_train = np.array(x_train,dtype='float32')/255\n",
    "\n",
    "x_test = data['testX']\n",
    "x_test = np.array(x_test,dtype='float32')/255\n",
    "\n",
    "# load the Label of Images\n",
    "y_train= data['trainY']\n",
    "y_test= data['testY']\n",
    "\n",
    "# show the train and test Data format\n",
    "print('x_train : {}'.format(x_train[:]))\n",
    "print('Y-train shape: {}'.format(y_train))\n",
    "print('x_test shape: {}'.format(x_test.shape))"
   ]
  },
  {
   "cell_type": "markdown",
   "id": "d9d1ec11",
   "metadata": {
    "id": "d9d1ec11"
   },
   "source": [
    "## Step 3"
   ]
  },
  {
   "cell_type": "code",
   "execution_count": 25,
   "id": "b6c8ca95",
   "metadata": {
    "id": "b6c8ca95"
   },
   "outputs": [],
   "source": [
    "x_train, x_valid, y_train, y_valid= train_test_split(\n",
    "    x_train, y_train, test_size=.05, random_state=1234,)"
   ]
  },
  {
   "cell_type": "markdown",
   "id": "66630728",
   "metadata": {
    "id": "66630728"
   },
   "source": [
    "## Step 4"
   ]
  },
  {
   "cell_type": "code",
   "execution_count": 26,
   "id": "9123683a",
   "metadata": {
    "colab": {
     "base_uri": "https://localhost:8080/"
    },
    "id": "9123683a",
    "outputId": "feea89a0-5f0f-47e8-c694-2046a26d17d7"
   },
   "outputs": [
    {
     "name": "stdout",
     "output_type": "stream",
     "text": [
      "x_train shape: 228\n",
      "x_test shape: (160,)\n"
     ]
    }
   ],
   "source": [
    "im_rows=112\n",
    "im_cols=92\n",
    "batch_size=512\n",
    "im_shape=(im_rows, im_cols, 1)\n",
    "\n",
    "#change the size of images\n",
    "x_train = x_train.reshape(x_train.shape[0], *im_shape)\n",
    "x_test = x_test.reshape(x_test.shape[0], *im_shape)\n",
    "x_valid = x_valid.reshape(x_valid.shape[0], *im_shape)\n",
    "\n",
    "print('x_train shape: {}'.format(y_train.shape[0]))\n",
    "print('x_test shape: {}'.format(y_test.shape))"
   ]
  },
  {
   "cell_type": "code",
   "execution_count": 27,
   "id": "fvbllH9AwLAF",
   "metadata": {
    "id": "fvbllH9AwLAF"
   },
   "outputs": [],
   "source": [
    "#x_train=np.reshape(x_train,(x_train.shape[0],112,-1))\n",
    "#x_test=np.reshape(x_test,(x_test.shape[0],112,-1))"
   ]
  },
  {
   "cell_type": "code",
   "execution_count": 28,
   "id": "e307ce06",
   "metadata": {
    "id": "e307ce06"
   },
   "outputs": [],
   "source": [
    "#plt.imshow(x_train[2])"
   ]
  },
  {
   "cell_type": "markdown",
   "id": "3e88e520",
   "metadata": {
    "id": "3e88e520"
   },
   "source": [
    "## Step 5"
   ]
  },
  {
   "cell_type": "code",
   "execution_count": 29,
   "id": "401787f1",
   "metadata": {
    "id": "401787f1"
   },
   "outputs": [],
   "source": [
    "#filters= the depth of output image or kernels\n",
    "\n",
    "cnn_model= Sequential([\n",
    "    Conv2D(filters=36, kernel_size=7, activation='relu', input_shape= im_shape),\n",
    "    MaxPooling2D(pool_size=2),\n",
    "    Conv2D(filters=54, kernel_size=5, activation='relu', input_shape= im_shape),\n",
    "    MaxPooling2D(pool_size=2),\n",
    "    Flatten(),\n",
    "    Dense(2024, activation='relu'),\n",
    "     Dropout(0.5),\n",
    "    Dense(1024, activation='relu'),\n",
    "    Dropout(0.5),\n",
    "    Dense(512, activation='relu'),\n",
    "    Dropout(0.5),\n",
    "    #20 is the number of outputs\n",
    "    Dense(20, activation='softmax')  \n",
    "])\n",
    "\n",
    "cnn_model.compile(\n",
    "    loss='sparse_categorical_crossentropy',#'categorical_crossentropy',\n",
    "    optimizer=adam_v2.Adam(learning_rate=0.0001),\n",
    "    metrics=['accuracy']\n",
    ")"
   ]
  },
  {
   "cell_type": "markdown",
   "id": "77c71d05",
   "metadata": {
    "id": "77c71d05"
   },
   "source": [
    "## Step 5"
   ]
  },
  {
   "cell_type": "markdown",
   "id": "08ab09b8",
   "metadata": {
    "id": "08ab09b8"
   },
   "source": [
    "Viewing Model parameters"
   ]
  },
  {
   "cell_type": "code",
   "execution_count": 30,
   "id": "2e09f23a",
   "metadata": {
    "colab": {
     "base_uri": "https://localhost:8080/"
    },
    "id": "2e09f23a",
    "outputId": "56aad6e5-32ab-46ad-eed4-cdbe1126908a"
   },
   "outputs": [
    {
     "name": "stdout",
     "output_type": "stream",
     "text": [
      "Model: \"sequential_2\"\n",
      "_________________________________________________________________\n",
      "Layer (type)                 Output Shape              Param #   \n",
      "=================================================================\n",
      "conv2d_4 (Conv2D)            (None, 106, 86, 36)       1800      \n",
      "_________________________________________________________________\n",
      "max_pooling2d_4 (MaxPooling2 (None, 53, 43, 36)        0         \n",
      "_________________________________________________________________\n",
      "conv2d_5 (Conv2D)            (None, 49, 39, 54)        48654     \n",
      "_________________________________________________________________\n",
      "max_pooling2d_5 (MaxPooling2 (None, 24, 19, 54)        0         \n",
      "_________________________________________________________________\n",
      "flatten_2 (Flatten)          (None, 24624)             0         \n",
      "_________________________________________________________________\n",
      "dense_8 (Dense)              (None, 2024)              49841000  \n",
      "_________________________________________________________________\n",
      "dropout_6 (Dropout)          (None, 2024)              0         \n",
      "_________________________________________________________________\n",
      "dense_9 (Dense)              (None, 1024)              2073600   \n",
      "_________________________________________________________________\n",
      "dropout_7 (Dropout)          (None, 1024)              0         \n",
      "_________________________________________________________________\n",
      "dense_10 (Dense)             (None, 512)               524800    \n",
      "_________________________________________________________________\n",
      "dropout_8 (Dropout)          (None, 512)               0         \n",
      "_________________________________________________________________\n",
      "dense_11 (Dense)             (None, 20)                10260     \n",
      "=================================================================\n",
      "Total params: 52,500,114\n",
      "Trainable params: 52,500,114\n",
      "Non-trainable params: 0\n",
      "_________________________________________________________________\n"
     ]
    }
   ],
   "source": [
    "cnn_model.summary()"
   ]
  },
  {
   "cell_type": "markdown",
   "id": "0562b7c5",
   "metadata": {
    "id": "0562b7c5"
   },
   "source": [
    "## Step 6\n",
    "##### Train the model\n",
    "##### Note: You can change the number of epochs"
   ]
  },
  {
   "cell_type": "code",
   "execution_count": null,
   "id": "vGew6ib4BJ1Z",
   "metadata": {
    "id": "vGew6ib4BJ1Z"
   },
   "outputs": [],
   "source": []
  },
  {
   "cell_type": "code",
   "execution_count": 31,
   "id": "a1bf8e6f",
   "metadata": {
    "colab": {
     "base_uri": "https://localhost:8080/"
    },
    "id": "a1bf8e6f",
    "outputId": "0336f198-a672-44ee-f988-8f17802e1d08"
   },
   "outputs": [
    {
     "name": "stdout",
     "output_type": "stream",
     "text": [
      "Epoch 1/100\n",
      "1/1 - 8s - loss: 3.0146 - accuracy: 0.0395 - val_loss: 3.0305 - val_accuracy: 0.0000e+00\n",
      "Epoch 2/100\n",
      "1/1 - 5s - loss: 3.0074 - accuracy: 0.0526 - val_loss: 3.0434 - val_accuracy: 0.0000e+00\n",
      "Epoch 3/100\n",
      "1/1 - 5s - loss: 3.0058 - accuracy: 0.0526 - val_loss: 3.0398 - val_accuracy: 0.0000e+00\n",
      "Epoch 4/100\n",
      "1/1 - 5s - loss: 3.0357 - accuracy: 0.0614 - val_loss: 3.0302 - val_accuracy: 0.0000e+00\n",
      "Epoch 5/100\n",
      "1/1 - 5s - loss: 3.0186 - accuracy: 0.0702 - val_loss: 3.0274 - val_accuracy: 0.0000e+00\n",
      "Epoch 6/100\n",
      "1/1 - 5s - loss: 3.0008 - accuracy: 0.0439 - val_loss: 3.0180 - val_accuracy: 0.0000e+00\n",
      "Epoch 7/100\n",
      "1/1 - 5s - loss: 3.0214 - accuracy: 0.0439 - val_loss: 3.0058 - val_accuracy: 0.0000e+00\n",
      "Epoch 8/100\n",
      "1/1 - 5s - loss: 3.0115 - accuracy: 0.0833 - val_loss: 3.0011 - val_accuracy: 0.0000e+00\n",
      "Epoch 9/100\n",
      "1/1 - 5s - loss: 3.0242 - accuracy: 0.0526 - val_loss: 2.9978 - val_accuracy: 0.0000e+00\n",
      "Epoch 10/100\n",
      "1/1 - 5s - loss: 2.9738 - accuracy: 0.0702 - val_loss: 2.9943 - val_accuracy: 0.0000e+00\n",
      "Epoch 11/100\n",
      "1/1 - 5s - loss: 2.9743 - accuracy: 0.0658 - val_loss: 2.9870 - val_accuracy: 0.0000e+00\n",
      "Epoch 12/100\n",
      "1/1 - 5s - loss: 3.0003 - accuracy: 0.0746 - val_loss: 2.9799 - val_accuracy: 0.0000e+00\n",
      "Epoch 13/100\n",
      "1/1 - 5s - loss: 2.9606 - accuracy: 0.0789 - val_loss: 2.9756 - val_accuracy: 0.0000e+00\n",
      "Epoch 14/100\n",
      "1/1 - 5s - loss: 2.9660 - accuracy: 0.1096 - val_loss: 2.9714 - val_accuracy: 0.0000e+00\n",
      "Epoch 15/100\n",
      "1/1 - 5s - loss: 2.9421 - accuracy: 0.1272 - val_loss: 2.9683 - val_accuracy: 0.0000e+00\n",
      "Epoch 16/100\n",
      "1/1 - 5s - loss: 2.9675 - accuracy: 0.0877 - val_loss: 2.9666 - val_accuracy: 0.0833\n",
      "Epoch 17/100\n",
      "1/1 - 5s - loss: 2.9517 - accuracy: 0.1053 - val_loss: 2.9640 - val_accuracy: 0.0000e+00\n",
      "Epoch 18/100\n",
      "1/1 - 5s - loss: 2.9361 - accuracy: 0.1053 - val_loss: 2.9597 - val_accuracy: 0.0000e+00\n",
      "Epoch 19/100\n",
      "1/1 - 5s - loss: 2.9320 - accuracy: 0.1447 - val_loss: 2.9569 - val_accuracy: 0.0000e+00\n",
      "Epoch 20/100\n",
      "1/1 - 5s - loss: 2.9282 - accuracy: 0.1140 - val_loss: 2.9501 - val_accuracy: 0.0000e+00\n",
      "Epoch 21/100\n",
      "1/1 - 5s - loss: 2.9205 - accuracy: 0.1316 - val_loss: 2.9431 - val_accuracy: 0.0000e+00\n",
      "Epoch 22/100\n",
      "1/1 - 5s - loss: 2.9083 - accuracy: 0.2018 - val_loss: 2.9358 - val_accuracy: 0.0000e+00\n",
      "Epoch 23/100\n",
      "1/1 - 5s - loss: 2.8949 - accuracy: 0.1842 - val_loss: 2.9273 - val_accuracy: 0.0000e+00\n",
      "Epoch 24/100\n",
      "1/1 - 5s - loss: 2.9032 - accuracy: 0.1360 - val_loss: 2.9194 - val_accuracy: 0.0000e+00\n",
      "Epoch 25/100\n",
      "1/1 - 5s - loss: 2.8677 - accuracy: 0.2325 - val_loss: 2.9082 - val_accuracy: 0.0000e+00\n",
      "Epoch 26/100\n",
      "1/1 - 5s - loss: 2.8533 - accuracy: 0.1974 - val_loss: 2.8919 - val_accuracy: 0.0000e+00\n",
      "Epoch 27/100\n",
      "1/1 - 5s - loss: 2.8508 - accuracy: 0.1491 - val_loss: 2.8731 - val_accuracy: 0.0833\n",
      "Epoch 28/100\n",
      "1/1 - 5s - loss: 2.8148 - accuracy: 0.2149 - val_loss: 2.8521 - val_accuracy: 0.0833\n",
      "Epoch 29/100\n",
      "1/1 - 5s - loss: 2.7937 - accuracy: 0.2105 - val_loss: 2.8245 - val_accuracy: 0.2500\n",
      "Epoch 30/100\n",
      "1/1 - 5s - loss: 2.8040 - accuracy: 0.1886 - val_loss: 2.7938 - val_accuracy: 0.2500\n",
      "Epoch 31/100\n",
      "1/1 - 5s - loss: 2.8002 - accuracy: 0.1754 - val_loss: 2.7664 - val_accuracy: 0.2500\n",
      "Epoch 32/100\n",
      "1/1 - 5s - loss: 2.7458 - accuracy: 0.2456 - val_loss: 2.7443 - val_accuracy: 0.2500\n",
      "Epoch 33/100\n",
      "1/1 - 5s - loss: 2.7391 - accuracy: 0.2456 - val_loss: 2.7195 - val_accuracy: 0.2500\n",
      "Epoch 34/100\n",
      "1/1 - 5s - loss: 2.7093 - accuracy: 0.2763 - val_loss: 2.6922 - val_accuracy: 0.2500\n",
      "Epoch 35/100\n",
      "1/1 - 5s - loss: 2.6710 - accuracy: 0.2500 - val_loss: 2.6585 - val_accuracy: 0.3333\n",
      "Epoch 36/100\n",
      "1/1 - 5s - loss: 2.6306 - accuracy: 0.2982 - val_loss: 2.6192 - val_accuracy: 0.3333\n",
      "Epoch 37/100\n",
      "1/1 - 5s - loss: 2.5976 - accuracy: 0.2851 - val_loss: 2.5787 - val_accuracy: 0.3333\n",
      "Epoch 38/100\n",
      "1/1 - 5s - loss: 2.5652 - accuracy: 0.2939 - val_loss: 2.5315 - val_accuracy: 0.3333\n",
      "Epoch 39/100\n",
      "1/1 - 6s - loss: 2.5417 - accuracy: 0.2851 - val_loss: 2.4809 - val_accuracy: 0.4167\n",
      "Epoch 40/100\n",
      "1/1 - 5s - loss: 2.4744 - accuracy: 0.3202 - val_loss: 2.4266 - val_accuracy: 0.5000\n",
      "Epoch 41/100\n",
      "1/1 - 5s - loss: 2.4740 - accuracy: 0.3246 - val_loss: 2.3726 - val_accuracy: 0.5000\n",
      "Epoch 42/100\n",
      "1/1 - 5s - loss: 2.4112 - accuracy: 0.3596 - val_loss: 2.3256 - val_accuracy: 0.5000\n",
      "Epoch 43/100\n",
      "1/1 - 5s - loss: 2.3750 - accuracy: 0.3114 - val_loss: 2.2764 - val_accuracy: 0.6667\n",
      "Epoch 44/100\n",
      "1/1 - 5s - loss: 2.3080 - accuracy: 0.3640 - val_loss: 2.2274 - val_accuracy: 0.5833\n",
      "Epoch 45/100\n",
      "1/1 - 5s - loss: 2.2127 - accuracy: 0.3728 - val_loss: 2.1805 - val_accuracy: 0.5833\n",
      "Epoch 46/100\n",
      "1/1 - 5s - loss: 2.2718 - accuracy: 0.3377 - val_loss: 2.1257 - val_accuracy: 0.5833\n",
      "Epoch 47/100\n",
      "1/1 - 5s - loss: 2.1264 - accuracy: 0.3816 - val_loss: 2.0724 - val_accuracy: 0.5833\n",
      "Epoch 48/100\n",
      "1/1 - 5s - loss: 2.1269 - accuracy: 0.3947 - val_loss: 2.0131 - val_accuracy: 0.6667\n",
      "Epoch 49/100\n",
      "1/1 - 5s - loss: 2.0261 - accuracy: 0.4430 - val_loss: 1.9435 - val_accuracy: 0.7500\n",
      "Epoch 50/100\n",
      "1/1 - 5s - loss: 1.9416 - accuracy: 0.4693 - val_loss: 1.8691 - val_accuracy: 0.7500\n",
      "Epoch 51/100\n",
      "1/1 - 5s - loss: 1.9930 - accuracy: 0.3860 - val_loss: 1.8109 - val_accuracy: 0.6667\n",
      "Epoch 52/100\n",
      "1/1 - 5s - loss: 1.8695 - accuracy: 0.4561 - val_loss: 1.7413 - val_accuracy: 0.6667\n",
      "Epoch 53/100\n",
      "1/1 - 5s - loss: 1.7674 - accuracy: 0.5132 - val_loss: 1.6568 - val_accuracy: 0.7500\n",
      "Epoch 54/100\n",
      "1/1 - 5s - loss: 1.7723 - accuracy: 0.5000 - val_loss: 1.5724 - val_accuracy: 0.7500\n",
      "Epoch 55/100\n",
      "1/1 - 5s - loss: 1.6549 - accuracy: 0.5044 - val_loss: 1.4907 - val_accuracy: 0.7500\n",
      "Epoch 56/100\n",
      "1/1 - 5s - loss: 1.6210 - accuracy: 0.5088 - val_loss: 1.4184 - val_accuracy: 0.7500\n",
      "Epoch 57/100\n",
      "1/1 - 5s - loss: 1.6245 - accuracy: 0.5263 - val_loss: 1.3404 - val_accuracy: 0.7500\n",
      "Epoch 58/100\n",
      "1/1 - 5s - loss: 1.4964 - accuracy: 0.5658 - val_loss: 1.2722 - val_accuracy: 0.7500\n",
      "Epoch 59/100\n",
      "1/1 - 5s - loss: 1.5064 - accuracy: 0.5439 - val_loss: 1.2322 - val_accuracy: 0.7500\n",
      "Epoch 60/100\n",
      "1/1 - 5s - loss: 1.4594 - accuracy: 0.5439 - val_loss: 1.1797 - val_accuracy: 0.7500\n",
      "Epoch 61/100\n",
      "1/1 - 5s - loss: 1.3183 - accuracy: 0.6053 - val_loss: 1.1264 - val_accuracy: 0.7500\n",
      "Epoch 62/100\n",
      "1/1 - 6s - loss: 1.3585 - accuracy: 0.5789 - val_loss: 1.0612 - val_accuracy: 0.8333\n",
      "Epoch 63/100\n",
      "1/1 - 5s - loss: 1.2586 - accuracy: 0.6053 - val_loss: 0.9826 - val_accuracy: 0.8333\n",
      "Epoch 64/100\n",
      "1/1 - 5s - loss: 1.2685 - accuracy: 0.6447 - val_loss: 0.9248 - val_accuracy: 0.8333\n",
      "Epoch 65/100\n",
      "1/1 - 5s - loss: 1.1050 - accuracy: 0.7018 - val_loss: 0.8689 - val_accuracy: 0.8333\n",
      "Epoch 66/100\n",
      "1/1 - 5s - loss: 1.0926 - accuracy: 0.6930 - val_loss: 0.8052 - val_accuracy: 0.8333\n",
      "Epoch 67/100\n",
      "1/1 - 5s - loss: 1.0800 - accuracy: 0.7018 - val_loss: 0.7392 - val_accuracy: 0.8333\n",
      "Epoch 68/100\n",
      "1/1 - 5s - loss: 0.9367 - accuracy: 0.7193 - val_loss: 0.6854 - val_accuracy: 0.8333\n",
      "Epoch 69/100\n",
      "1/1 - 5s - loss: 0.9900 - accuracy: 0.6886 - val_loss: 0.6332 - val_accuracy: 0.8333\n",
      "Epoch 70/100\n",
      "1/1 - 5s - loss: 0.9664 - accuracy: 0.7061 - val_loss: 0.6100 - val_accuracy: 0.9167\n",
      "Epoch 71/100\n",
      "1/1 - 5s - loss: 0.9080 - accuracy: 0.7325 - val_loss: 0.5647 - val_accuracy: 0.9167\n",
      "Epoch 72/100\n",
      "1/1 - 5s - loss: 0.8890 - accuracy: 0.7061 - val_loss: 0.5359 - val_accuracy: 0.9167\n",
      "Epoch 73/100\n",
      "1/1 - 5s - loss: 0.8078 - accuracy: 0.7851 - val_loss: 0.5023 - val_accuracy: 0.9167\n",
      "Epoch 74/100\n",
      "1/1 - 5s - loss: 0.8211 - accuracy: 0.7456 - val_loss: 0.4475 - val_accuracy: 0.9167\n",
      "Epoch 75/100\n",
      "1/1 - 5s - loss: 0.7330 - accuracy: 0.7719 - val_loss: 0.4253 - val_accuracy: 0.9167\n",
      "Epoch 76/100\n",
      "1/1 - 5s - loss: 0.7660 - accuracy: 0.7675 - val_loss: 0.4362 - val_accuracy: 0.9167\n",
      "Epoch 77/100\n",
      "1/1 - 5s - loss: 0.6758 - accuracy: 0.7982 - val_loss: 0.4140 - val_accuracy: 0.9167\n",
      "Epoch 78/100\n",
      "1/1 - 5s - loss: 0.6666 - accuracy: 0.8246 - val_loss: 0.3568 - val_accuracy: 0.9167\n",
      "Epoch 79/100\n",
      "1/1 - 5s - loss: 0.6670 - accuracy: 0.8114 - val_loss: 0.3203 - val_accuracy: 1.0000\n",
      "Epoch 80/100\n",
      "1/1 - 5s - loss: 0.5501 - accuracy: 0.8509 - val_loss: 0.3074 - val_accuracy: 1.0000\n",
      "Epoch 81/100\n",
      "1/1 - 5s - loss: 0.6211 - accuracy: 0.8246 - val_loss: 0.3226 - val_accuracy: 0.9167\n",
      "Epoch 82/100\n",
      "1/1 - 5s - loss: 0.5162 - accuracy: 0.8728 - val_loss: 0.3433 - val_accuracy: 0.9167\n",
      "Epoch 83/100\n",
      "1/1 - 5s - loss: 0.4257 - accuracy: 0.8904 - val_loss: 0.3178 - val_accuracy: 0.9167\n"
     ]
    },
    {
     "name": "stdout",
     "output_type": "stream",
     "text": [
      "Epoch 84/100\n",
      "1/1 - 5s - loss: 0.4423 - accuracy: 0.8904 - val_loss: 0.2641 - val_accuracy: 1.0000\n",
      "Epoch 85/100\n",
      "1/1 - 5s - loss: 0.4542 - accuracy: 0.8816 - val_loss: 0.2267 - val_accuracy: 1.0000\n",
      "Epoch 86/100\n",
      "1/1 - 5s - loss: 0.4440 - accuracy: 0.8728 - val_loss: 0.2122 - val_accuracy: 1.0000\n",
      "Epoch 87/100\n",
      "1/1 - 5s - loss: 0.4208 - accuracy: 0.8816 - val_loss: 0.2253 - val_accuracy: 0.9167\n",
      "Epoch 88/100\n",
      "1/1 - 5s - loss: 0.4664 - accuracy: 0.8421 - val_loss: 0.2330 - val_accuracy: 0.9167\n",
      "Epoch 89/100\n",
      "1/1 - 5s - loss: 0.3746 - accuracy: 0.8904 - val_loss: 0.2017 - val_accuracy: 0.9167\n",
      "Epoch 90/100\n",
      "1/1 - 5s - loss: 0.3578 - accuracy: 0.8860 - val_loss: 0.1649 - val_accuracy: 1.0000\n",
      "Epoch 91/100\n",
      "1/1 - 5s - loss: 0.2865 - accuracy: 0.9386 - val_loss: 0.1538 - val_accuracy: 1.0000\n",
      "Epoch 92/100\n",
      "1/1 - 5s - loss: 0.3405 - accuracy: 0.9079 - val_loss: 0.1591 - val_accuracy: 0.9167\n",
      "Epoch 93/100\n",
      "1/1 - 5s - loss: 0.3217 - accuracy: 0.9211 - val_loss: 0.1534 - val_accuracy: 0.9167\n",
      "Epoch 94/100\n",
      "1/1 - 5s - loss: 0.3739 - accuracy: 0.8991 - val_loss: 0.1428 - val_accuracy: 1.0000\n",
      "Epoch 95/100\n",
      "1/1 - 5s - loss: 0.3022 - accuracy: 0.9211 - val_loss: 0.1305 - val_accuracy: 1.0000\n",
      "Epoch 96/100\n",
      "1/1 - 5s - loss: 0.3064 - accuracy: 0.9079 - val_loss: 0.1269 - val_accuracy: 1.0000\n",
      "Epoch 97/100\n",
      "1/1 - 5s - loss: 0.2864 - accuracy: 0.9167 - val_loss: 0.1383 - val_accuracy: 1.0000\n",
      "Epoch 98/100\n",
      "1/1 - 5s - loss: 0.2999 - accuracy: 0.9254 - val_loss: 0.1360 - val_accuracy: 1.0000\n",
      "Epoch 99/100\n",
      "1/1 - 5s - loss: 0.2471 - accuracy: 0.9298 - val_loss: 0.1140 - val_accuracy: 1.0000\n",
      "Epoch 100/100\n",
      "1/1 - 5s - loss: 0.2621 - accuracy: 0.9254 - val_loss: 0.0960 - val_accuracy: 1.0000\n"
     ]
    }
   ],
   "source": [
    "history=cnn_model.fit(\n",
    "    np.array(x_train), np.array(y_train), batch_size=512,\n",
    "    epochs=100, verbose=2,\n",
    "    validation_data=(np.array(x_valid),np.array(y_valid)),\n",
    ")"
   ]
  },
  {
   "cell_type": "code",
   "execution_count": 32,
   "id": "5daffbc6",
   "metadata": {
    "id": "5daffbc6"
   },
   "outputs": [],
   "source": [
    "# Evaluate the test data"
   ]
  },
  {
   "cell_type": "code",
   "execution_count": 33,
   "id": "T72sK5PVjGvD",
   "metadata": {
    "colab": {
     "base_uri": "https://localhost:8080/"
    },
    "id": "T72sK5PVjGvD",
    "outputId": "5cb6a8fd-be80-4f1e-b2a2-c65f26f68d96"
   },
   "outputs": [
    {
     "name": "stdout",
     "output_type": "stream",
     "text": [
      "test los 0.3364\n",
      "test acc 0.9375\n"
     ]
    }
   ],
   "source": [
    "scor = cnn_model.evaluate( np.array(x_test),  np.array(y_test), verbose=0)\n",
    "\n",
    "print('test los {:.4f}'.format(scor[0]))\n",
    "print('test acc {:.4f}'.format(scor[1]))"
   ]
  },
  {
   "cell_type": "code",
   "execution_count": 34,
   "id": "X9HtrE6TjWPo",
   "metadata": {
    "id": "X9HtrE6TjWPo"
   },
   "outputs": [],
   "source": [
    "## Step 7\n",
    "### plot the result"
   ]
  },
  {
   "cell_type": "code",
   "execution_count": 35,
   "id": "39QSI0D6jbIg",
   "metadata": {
    "colab": {
     "base_uri": "https://localhost:8080/",
     "height": 590
    },
    "id": "39QSI0D6jbIg",
    "outputId": "a9fd0812-5b92-45f7-d904-27a09c57b67d"
   },
   "outputs": [
    {
     "name": "stdout",
     "output_type": "stream",
     "text": [
      "dict_keys(['loss', 'accuracy', 'val_loss', 'val_accuracy'])\n"
     ]
    },
    {
     "data": {
      "image/png": "[encoded data removed]",
      "text/plain": [
       "<Figure size 432x288 with 1 Axes>"
      ]
     },
     "metadata": {
      "needs_background": "light"
     },
     "output_type": "display_data"
    },
    {
     "data": {
      "image/png": "[encoded data removed]",
      "text/plain": [
       "<Figure size 432x288 with 1 Axes>"
      ]
     },
     "metadata": {
      "needs_background": "light"
     },
     "output_type": "display_data"
    }
   ],
   "source": [
    "# list all data in history\n",
    "print(history.history.keys())\n",
    "# summarize history for accuracy\n",
    "plt.plot(history.history['accuracy'])\n",
    "plt.plot(history.history['val_accuracy'])\n",
    "plt.title('model accuracy')\n",
    "plt.ylabel('accuracy')\n",
    "plt.xlabel('epoch')\n",
    "plt.legend(['train', 'test'], loc='upper left')\n",
    "plt.show()\n",
    "# summarize history for loss\n",
    "plt.plot(history.history['loss'])\n",
    "plt.plot(history.history['val_loss'])\n",
    "plt.title('model loss')\n",
    "plt.ylabel('loss')\n",
    "plt.xlabel('epoch')\n",
    "plt.legend(['train', 'test'], loc='upper left')\n",
    "plt.show()"
   ]
  },
  {
   "cell_type": "markdown",
   "id": "HDoJ1DbqXqeF",
   "metadata": {
    "id": "HDoJ1DbqXqeF"
   },
   "source": [
    "## Step 8\n",
    "### Plot Confusion Matrix"
   ]
  },
  {
   "cell_type": "code",
   "execution_count": null,
   "id": "LFm91WB_jnoN",
   "metadata": {
    "id": "LFm91WB_jnoN",
    "scrolled": true
   },
   "outputs": [],
   "source": [
    "predicted =np.array( cnn_model.predict(x_test))\n",
    "#print(predicted)\n",
    "#print(y_test)\n",
    "ynew = cnn_model.predict(x_test)\n",
    "\n",
    "Acc=accuracy_score(y_test, ynew)\n",
    "print(\"accuracy : \")\n",
    "print(Acc)\n",
    "\n",
    "\n",
    "#/tn, fp, fn, tp = confusion_matrix(np.array(y_test), ynew).ravel()\n",
    "cnf_matrix=confusion_matrix(np.array(y_test), ynew)\n",
    "\n",
    "y_test1 = np_utils.to_categorical(y_test, 20)\n",
    "\n",
    "\n",
    "\n",
    "def plot_confusion_matrix(cm, classes,\n",
    "                          normalize=False,\n",
    "                          title='Confusion matrix',\n",
    "                          cmap=plt.cm.Blues):\n",
    "    \"\"\"\n",
    "    This function prints and plots the confusion matrix.\n",
    "    Normalization can be applied by setting `normalize=True`.\n",
    "    \"\"\"\n",
    "    if normalize:\n",
    "        cm = cm.astype('float') / cm.sum(axis=1)[:, np.newaxis]\n",
    "        #print(\"Normalized confusion matrix\")\n",
    "    else:\n",
    "        print('Confusion matrix, without normalization')\n",
    "\n",
    "    #print(cm)\n",
    "    plt.imshow(cm, interpolation='nearest', cmap=cmap)\n",
    "    plt.title(title)\n",
    "    plt.colorbar()\n",
    "    tick_marks = np.arange(len(classes))\n",
    "    plt.xticks(tick_marks, classes, rotation=45)\n",
    "    plt.yticks(tick_marks, classes)\n",
    "\n",
    "    fmt = '.2f' if normalize else 'd'\n",
    "    thresh = cm.max() / 2.\n",
    "    for i, j in itertools.product(range(cm.shape[0]), range(cm.shape[1])):\n",
    "        plt.text(j, i, format(cm[i, j], fmt),\n",
    "                 horizontalalignment=\"center\",\n",
    "                 color=\"white\" if cm[i, j] > thresh else \"black\")\n",
    "\n",
    "    plt.tight_layout()\n",
    "    plt.ylabel('True label')\n",
    "    plt.xlabel('Predicted label')\n",
    "    plt.show()\n",
    "\n",
    "\n",
    "print('Confusion matrix, without normalization')\n",
    "print(cnf_matrix)\n",
    "\n",
    "plt.figure()\n",
    "plot_confusion_matrix(cnf_matrix[1:10,1:10], classes=[0,1,2,3,4,5,6,7,8,9],\n",
    "                      title='Confusion matrix, without normalization')\n",
    "\n",
    "plt.figure()\n",
    "plot_confusion_matrix(cnf_matrix[11:20,11:20], classes=[10,11,12,13,14,15,16,17,18,19],\n",
    "                      title='Confusion matrix, without normalization')\n",
    "\n",
    "print(\"Confusion matrix:\\n%s\" % confusion_matrix(np.array(y_test), ynew))\n",
    "print(classification_report(np.array(y_test), ynew))"
   ]
  },
  {
   "cell_type": "code",
   "execution_count": null,
   "id": "RicGFjUcjrYk",
   "metadata": {
    "id": "RicGFjUcjrYk"
   },
   "outputs": [],
   "source": []
  }
 ],
 "metadata": {
  "accelerator": "GPU",
  "colab": {
   "collapsed_sections": [],
   "name": "Untitled.ipynb",
   "provenance": []
  },
  "kernelspec": {
   "display_name": "Python 3",
   "language": "python",
   "name": "python3"
  },
  "language_info": {
   "codemirror_mode": {
    "name": "ipython",
    "version": 3
   },
   "file_extension": ".py",
   "mimetype": "text/x-python",
   "name": "python",
   "nbconvert_exporter": "python",
   "pygments_lexer": "ipython3",
   "version": "3.8.8"
  }
 },
 "nbformat": 4,
 "nbformat_minor": 5
}
